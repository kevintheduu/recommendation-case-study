{
 "cells": [
  {
   "cell_type": "code",
   "execution_count": 1,
   "metadata": {},
   "outputs": [],
   "source": [
    "import pyspark\n",
    "from pyspark import SparkContext\n",
    "from pyspark.sql import SparkSession\n",
    "from pyspark.ml.evaluation import RegressionEvaluator\n",
    "from pyspark.ml.recommendation import ALS, ALSModel"
   ]
  },
  {
   "cell_type": "code",
   "execution_count": 2,
   "metadata": {},
   "outputs": [],
   "source": [
    "spark = SparkSession.builder.master(\"local\").getOrCreate()"
   ]
  },
  {
   "cell_type": "code",
   "execution_count": 3,
   "metadata": {},
   "outputs": [],
   "source": [
    "movie_ratings = spark.read.json('./data/ratings.json')\n",
    "movie_ratings = movie_ratings.toPandas()"
   ]
  },
  {
   "cell_type": "code",
   "execution_count": 4,
   "metadata": {},
   "outputs": [
    {
     "data": {
      "text/plain": [
       "(719949, 4)"
      ]
     },
     "execution_count": 4,
     "metadata": {},
     "output_type": "execute_result"
    }
   ],
   "source": [
    "movie_ratings.shape"
   ]
  },
  {
   "cell_type": "code",
   "execution_count": 5,
   "metadata": {},
   "outputs": [],
   "source": [
    "import pandas as pd"
   ]
  },
  {
   "cell_type": "code",
   "execution_count": 6,
   "metadata": {},
   "outputs": [],
   "source": [
    "movies_meta = pd.read_csv('features.csv')"
   ]
  },
  {
   "cell_type": "code",
   "execution_count": 8,
   "metadata": {},
   "outputs": [
    {
     "data": {
      "text/html": [
       "<div>\n",
       "<style scoped>\n",
       "    .dataframe tbody tr th:only-of-type {\n",
       "        vertical-align: middle;\n",
       "    }\n",
       "\n",
       "    .dataframe tbody tr th {\n",
       "        vertical-align: top;\n",
       "    }\n",
       "\n",
       "    .dataframe thead th {\n",
       "        text-align: right;\n",
       "    }\n",
       "</style>\n",
       "<table border=\"1\" class=\"dataframe\">\n",
       "  <thead>\n",
       "    <tr style=\"text-align: right;\">\n",
       "      <th></th>\n",
       "      <th>id</th>\n",
       "      <th>title</th>\n",
       "      <th>year</th>\n",
       "      <th>title_year</th>\n",
       "      <th>budget</th>\n",
       "      <th>revenue</th>\n",
       "      <th>runtime</th>\n",
       "      <th>vote_average</th>\n",
       "      <th>popularity</th>\n",
       "      <th>vote_count</th>\n",
       "    </tr>\n",
       "  </thead>\n",
       "  <tbody>\n",
       "    <tr>\n",
       "      <th>0</th>\n",
       "      <td>1</td>\n",
       "      <td>Toy Story</td>\n",
       "      <td>1995</td>\n",
       "      <td>('Toy Story', '1995')</td>\n",
       "      <td>30000000.0</td>\n",
       "      <td>373554033.0</td>\n",
       "      <td>81.0</td>\n",
       "      <td>7.7</td>\n",
       "      <td>21.946943</td>\n",
       "      <td>5415.0</td>\n",
       "    </tr>\n",
       "    <tr>\n",
       "      <th>1</th>\n",
       "      <td>2</td>\n",
       "      <td>Jumanji</td>\n",
       "      <td>1995</td>\n",
       "      <td>('Jumanji', '1995')</td>\n",
       "      <td>65000000.0</td>\n",
       "      <td>262797249.0</td>\n",
       "      <td>104.0</td>\n",
       "      <td>6.9</td>\n",
       "      <td>17.015539</td>\n",
       "      <td>2413.0</td>\n",
       "    </tr>\n",
       "    <tr>\n",
       "      <th>2</th>\n",
       "      <td>3</td>\n",
       "      <td>Grumpier Old Men</td>\n",
       "      <td>1995</td>\n",
       "      <td>('Grumpier Old Men', '1995')</td>\n",
       "      <td>0.0</td>\n",
       "      <td>0.0</td>\n",
       "      <td>101.0</td>\n",
       "      <td>6.5</td>\n",
       "      <td>11.712900</td>\n",
       "      <td>92.0</td>\n",
       "    </tr>\n",
       "    <tr>\n",
       "      <th>3</th>\n",
       "      <td>4</td>\n",
       "      <td>Waiting to Exhale</td>\n",
       "      <td>1995</td>\n",
       "      <td>('Waiting to Exhale', '1995')</td>\n",
       "      <td>NaN</td>\n",
       "      <td>NaN</td>\n",
       "      <td>NaN</td>\n",
       "      <td>NaN</td>\n",
       "      <td>NaN</td>\n",
       "      <td>NaN</td>\n",
       "    </tr>\n",
       "    <tr>\n",
       "      <th>4</th>\n",
       "      <td>5</td>\n",
       "      <td>Father of the Bride Part II</td>\n",
       "      <td>1995</td>\n",
       "      <td>('Father of the Bride Part II', '1995')</td>\n",
       "      <td>0.0</td>\n",
       "      <td>76578911.0</td>\n",
       "      <td>106.0</td>\n",
       "      <td>5.7</td>\n",
       "      <td>8.387519</td>\n",
       "      <td>173.0</td>\n",
       "    </tr>\n",
       "  </tbody>\n",
       "</table>\n",
       "</div>"
      ],
      "text/plain": [
       "   id                        title  year  \\\n",
       "0   1                    Toy Story  1995   \n",
       "1   2                      Jumanji  1995   \n",
       "2   3             Grumpier Old Men  1995   \n",
       "3   4            Waiting to Exhale  1995   \n",
       "4   5  Father of the Bride Part II  1995   \n",
       "\n",
       "                                title_year      budget      revenue  runtime  \\\n",
       "0                    ('Toy Story', '1995')  30000000.0  373554033.0     81.0   \n",
       "1                      ('Jumanji', '1995')  65000000.0  262797249.0    104.0   \n",
       "2             ('Grumpier Old Men', '1995')         0.0          0.0    101.0   \n",
       "3            ('Waiting to Exhale', '1995')         NaN          NaN      NaN   \n",
       "4  ('Father of the Bride Part II', '1995')         0.0   76578911.0    106.0   \n",
       "\n",
       "   vote_average  popularity  vote_count  \n",
       "0           7.7   21.946943      5415.0  \n",
       "1           6.9   17.015539      2413.0  \n",
       "2           6.5   11.712900        92.0  \n",
       "3           NaN         NaN         NaN  \n",
       "4           5.7    8.387519       173.0  "
      ]
     },
     "execution_count": 8,
     "metadata": {},
     "output_type": "execute_result"
    }
   ],
   "source": [
    "movies_meta.drop('category', axis=1, inplace=True)\n",
    "movies_meta.head()"
   ]
  },
  {
   "cell_type": "code",
   "execution_count": 9,
   "metadata": {},
   "outputs": [],
   "source": [
    "users_meta = pd.read_csv('users.csv')"
   ]
  },
  {
   "cell_type": "code",
   "execution_count": 10,
   "metadata": {},
   "outputs": [
    {
     "data": {
      "text/html": [
       "<div>\n",
       "<style scoped>\n",
       "    .dataframe tbody tr th:only-of-type {\n",
       "        vertical-align: middle;\n",
       "    }\n",
       "\n",
       "    .dataframe tbody tr th {\n",
       "        vertical-align: top;\n",
       "    }\n",
       "\n",
       "    .dataframe thead th {\n",
       "        text-align: right;\n",
       "    }\n",
       "</style>\n",
       "<table border=\"1\" class=\"dataframe\">\n",
       "  <thead>\n",
       "    <tr style=\"text-align: right;\">\n",
       "      <th></th>\n",
       "      <th>ID</th>\n",
       "      <th>sex</th>\n",
       "      <th>age</th>\n",
       "      <th>occupation</th>\n",
       "      <th>zipcode</th>\n",
       "    </tr>\n",
       "  </thead>\n",
       "  <tbody>\n",
       "    <tr>\n",
       "      <th>0</th>\n",
       "      <td>1</td>\n",
       "      <td>F</td>\n",
       "      <td>1</td>\n",
       "      <td>10</td>\n",
       "      <td>48067</td>\n",
       "    </tr>\n",
       "    <tr>\n",
       "      <th>1</th>\n",
       "      <td>2</td>\n",
       "      <td>M</td>\n",
       "      <td>56</td>\n",
       "      <td>16</td>\n",
       "      <td>70072</td>\n",
       "    </tr>\n",
       "    <tr>\n",
       "      <th>2</th>\n",
       "      <td>3</td>\n",
       "      <td>M</td>\n",
       "      <td>25</td>\n",
       "      <td>15</td>\n",
       "      <td>55117</td>\n",
       "    </tr>\n",
       "    <tr>\n",
       "      <th>3</th>\n",
       "      <td>4</td>\n",
       "      <td>M</td>\n",
       "      <td>45</td>\n",
       "      <td>7</td>\n",
       "      <td>02460</td>\n",
       "    </tr>\n",
       "    <tr>\n",
       "      <th>4</th>\n",
       "      <td>5</td>\n",
       "      <td>M</td>\n",
       "      <td>25</td>\n",
       "      <td>20</td>\n",
       "      <td>55455</td>\n",
       "    </tr>\n",
       "  </tbody>\n",
       "</table>\n",
       "</div>"
      ],
      "text/plain": [
       "   ID sex  age  occupation zipcode\n",
       "0   1   F    1          10   48067\n",
       "1   2   M   56          16   70072\n",
       "2   3   M   25          15   55117\n",
       "3   4   M   45           7   02460\n",
       "4   5   M   25          20   55455"
      ]
     },
     "execution_count": 10,
     "metadata": {},
     "output_type": "execute_result"
    }
   ],
   "source": [
    "users_meta.head()"
   ]
  },
  {
   "cell_type": "code",
   "execution_count": 11,
   "metadata": {},
   "outputs": [],
   "source": [
    "movies = pd.merge(movie_ratings, movies_meta, how='left', left_on='movie_id', right_on='id')"
   ]
  },
  {
   "cell_type": "code",
   "execution_count": 43,
   "metadata": {},
   "outputs": [],
   "source": [
    "movies_and_users = pd.merge(movies, users_meta, how='left', left_on='user_id', right_on='ID')"
   ]
  },
  {
   "cell_type": "code",
   "execution_count": 44,
   "metadata": {},
   "outputs": [],
   "source": [
    "movies_and_users.drop(['id','ID'], axis=1, inplace=True)"
   ]
  },
  {
   "cell_type": "code",
   "execution_count": 45,
   "metadata": {},
   "outputs": [
    {
     "data": {
      "text/html": [
       "<div>\n",
       "<style scoped>\n",
       "    .dataframe tbody tr th:only-of-type {\n",
       "        vertical-align: middle;\n",
       "    }\n",
       "\n",
       "    .dataframe tbody tr th {\n",
       "        vertical-align: top;\n",
       "    }\n",
       "\n",
       "    .dataframe thead th {\n",
       "        text-align: right;\n",
       "    }\n",
       "</style>\n",
       "<table border=\"1\" class=\"dataframe\">\n",
       "  <thead>\n",
       "    <tr style=\"text-align: right;\">\n",
       "      <th></th>\n",
       "      <th>movie_id</th>\n",
       "      <th>rating</th>\n",
       "      <th>timestamp</th>\n",
       "      <th>user_id</th>\n",
       "      <th>title</th>\n",
       "      <th>year</th>\n",
       "      <th>title_year</th>\n",
       "      <th>budget</th>\n",
       "      <th>revenue</th>\n",
       "      <th>runtime</th>\n",
       "      <th>vote_average</th>\n",
       "      <th>popularity</th>\n",
       "      <th>vote_count</th>\n",
       "      <th>sex</th>\n",
       "      <th>age</th>\n",
       "      <th>occupation</th>\n",
       "      <th>zipcode</th>\n",
       "      <th>Percentile_rank</th>\n",
       "    </tr>\n",
       "  </thead>\n",
       "  <tbody>\n",
       "    <tr>\n",
       "      <th>0</th>\n",
       "      <td>858</td>\n",
       "      <td>4</td>\n",
       "      <td>956678732.0</td>\n",
       "      <td>6040</td>\n",
       "      <td>Godfather, The</td>\n",
       "      <td>1972</td>\n",
       "      <td>('Godfather, The', '1972')</td>\n",
       "      <td>NaN</td>\n",
       "      <td>NaN</td>\n",
       "      <td>NaN</td>\n",
       "      <td>NaN</td>\n",
       "      <td>NaN</td>\n",
       "      <td>NaN</td>\n",
       "      <td>M</td>\n",
       "      <td>25</td>\n",
       "      <td>6</td>\n",
       "      <td>11106</td>\n",
       "      <td>0.000001</td>\n",
       "    </tr>\n",
       "    <tr>\n",
       "      <th>1</th>\n",
       "      <td>2384</td>\n",
       "      <td>4</td>\n",
       "      <td>956678754.0</td>\n",
       "      <td>6040</td>\n",
       "      <td>Babe: Pig in the City</td>\n",
       "      <td>1998</td>\n",
       "      <td>('Babe: Pig in the City', '1998')</td>\n",
       "      <td>90000000.0</td>\n",
       "      <td>69131860.0</td>\n",
       "      <td>92.0</td>\n",
       "      <td>5.3</td>\n",
       "      <td>6.229629</td>\n",
       "      <td>312.0</td>\n",
       "      <td>M</td>\n",
       "      <td>25</td>\n",
       "      <td>6</td>\n",
       "      <td>11106</td>\n",
       "      <td>0.000003</td>\n",
       "    </tr>\n",
       "    <tr>\n",
       "      <th>2</th>\n",
       "      <td>593</td>\n",
       "      <td>5</td>\n",
       "      <td>956678754.0</td>\n",
       "      <td>6040</td>\n",
       "      <td>Silence of the Lambs, The</td>\n",
       "      <td>1991</td>\n",
       "      <td>('Silence of the Lambs, The', '1991')</td>\n",
       "      <td>NaN</td>\n",
       "      <td>NaN</td>\n",
       "      <td>NaN</td>\n",
       "      <td>NaN</td>\n",
       "      <td>NaN</td>\n",
       "      <td>NaN</td>\n",
       "      <td>M</td>\n",
       "      <td>25</td>\n",
       "      <td>6</td>\n",
       "      <td>11106</td>\n",
       "      <td>0.000003</td>\n",
       "    </tr>\n",
       "    <tr>\n",
       "      <th>3</th>\n",
       "      <td>1961</td>\n",
       "      <td>4</td>\n",
       "      <td>956678777.0</td>\n",
       "      <td>6040</td>\n",
       "      <td>Rain Man</td>\n",
       "      <td>1988</td>\n",
       "      <td>('Rain Man', '1988')</td>\n",
       "      <td>25000000.0</td>\n",
       "      <td>412800000.0</td>\n",
       "      <td>133.0</td>\n",
       "      <td>7.6</td>\n",
       "      <td>11.267467</td>\n",
       "      <td>1762.0</td>\n",
       "      <td>M</td>\n",
       "      <td>25</td>\n",
       "      <td>6</td>\n",
       "      <td>11106</td>\n",
       "      <td>0.000006</td>\n",
       "    </tr>\n",
       "    <tr>\n",
       "      <th>4</th>\n",
       "      <td>1419</td>\n",
       "      <td>3</td>\n",
       "      <td>956678856.0</td>\n",
       "      <td>6040</td>\n",
       "      <td>Walkabout</td>\n",
       "      <td>1971</td>\n",
       "      <td>('Walkabout', '1971')</td>\n",
       "      <td>0.0</td>\n",
       "      <td>0.0</td>\n",
       "      <td>95.0</td>\n",
       "      <td>7.4</td>\n",
       "      <td>10.177086</td>\n",
       "      <td>111.0</td>\n",
       "      <td>M</td>\n",
       "      <td>25</td>\n",
       "      <td>6</td>\n",
       "      <td>11106</td>\n",
       "      <td>0.000010</td>\n",
       "    </tr>\n",
       "  </tbody>\n",
       "</table>\n",
       "</div>"
      ],
      "text/plain": [
       "   movie_id  rating    timestamp  user_id                      title  year  \\\n",
       "0       858       4  956678732.0     6040             Godfather, The  1972   \n",
       "1      2384       4  956678754.0     6040      Babe: Pig in the City  1998   \n",
       "2       593       5  956678754.0     6040  Silence of the Lambs, The  1991   \n",
       "3      1961       4  956678777.0     6040                   Rain Man  1988   \n",
       "4      1419       3  956678856.0     6040                  Walkabout  1971   \n",
       "\n",
       "                              title_year      budget      revenue  runtime  \\\n",
       "0             ('Godfather, The', '1972')         NaN          NaN      NaN   \n",
       "1      ('Babe: Pig in the City', '1998')  90000000.0   69131860.0     92.0   \n",
       "2  ('Silence of the Lambs, The', '1991')         NaN          NaN      NaN   \n",
       "3                   ('Rain Man', '1988')  25000000.0  412800000.0    133.0   \n",
       "4                  ('Walkabout', '1971')         0.0          0.0     95.0   \n",
       "\n",
       "   vote_average  popularity  vote_count sex  age  occupation zipcode  \\\n",
       "0           NaN         NaN         NaN   M   25           6   11106   \n",
       "1           5.3    6.229629       312.0   M   25           6   11106   \n",
       "2           NaN         NaN         NaN   M   25           6   11106   \n",
       "3           7.6   11.267467      1762.0   M   25           6   11106   \n",
       "4           7.4   10.177086       111.0   M   25           6   11106   \n",
       "\n",
       "   Percentile_rank  \n",
       "0         0.000001  \n",
       "1         0.000003  \n",
       "2         0.000003  \n",
       "3         0.000006  \n",
       "4         0.000010  "
      ]
     },
     "execution_count": 45,
     "metadata": {},
     "output_type": "execute_result"
    }
   ],
   "source": [
    "movies_and_users['Percentile_rank']=movies_and_users.timestamp.rank(pct=True)\n",
    "movies_and_users.head()"
   ]
  },
  {
   "cell_type": "code",
   "execution_count": 52,
   "metadata": {},
   "outputs": [],
   "source": [
    "movies_and_users = movies_and_users.fillna(0)"
   ]
  },
  {
   "cell_type": "code",
   "execution_count": null,
   "metadata": {},
   "outputs": [],
   "source": [
    "movies_and_users.head()"
   ]
  },
  {
   "cell_type": "code",
   "execution_count": 60,
   "metadata": {},
   "outputs": [
    {
     "name": "stdout",
     "output_type": "stream",
     "text": [
      "<class 'pandas.core.frame.DataFrame'>\n",
      "Int64Index: 720674 entries, 0 to 720673\n",
      "Data columns (total 18 columns):\n",
      "movie_id           720674 non-null int64\n",
      "rating             720674 non-null int64\n",
      "timestamp          720674 non-null float64\n",
      "user_id            720674 non-null int64\n",
      "title              720674 non-null object\n",
      "year               720674 non-null int64\n",
      "title_year         720674 non-null object\n",
      "budget             720674 non-null float64\n",
      "revenue            720674 non-null float64\n",
      "runtime            720674 non-null float64\n",
      "vote_average       720674 non-null float64\n",
      "popularity         720674 non-null float64\n",
      "vote_count         720674 non-null float64\n",
      "sex                720674 non-null int64\n",
      "age                720674 non-null int64\n",
      "occupation         720674 non-null int64\n",
      "zipcode            5 non-null object\n",
      "Percentile_rank    720674 non-null float64\n",
      "dtypes: float64(8), int64(7), object(3)\n",
      "memory usage: 104.5+ MB\n"
     ]
    }
   ],
   "source": [
    "movies_and_users.info()"
   ]
  },
  {
   "cell_type": "code",
   "execution_count": 54,
   "metadata": {},
   "outputs": [],
   "source": [
    "movies_and_users['sex'] = movies_and_users['sex'].map({'M': 0, 'F': 1})\n",
    "movies_and_users['zipcode'] = movies_and_users['zipcode'][0:5]"
   ]
  },
  {
   "cell_type": "code",
   "execution_count": 61,
   "metadata": {},
   "outputs": [],
   "source": [
    "train_df = movies_and_users.loc[movies_and_users[\"Percentile_rank\"] <= .9]\n",
    "train_df.shape\n",
    "\n",
    "X_train = train_df.drop(['rating', 'title', 'title_year', 'zipcode', 'Percentile_rank', 'timestamp'], axis=1)\n",
    "y_train = train_df['rating']"
   ]
  },
  {
   "cell_type": "code",
   "execution_count": 62,
   "metadata": {},
   "outputs": [],
   "source": [
    "test_df = movies_and_users.loc[movies_and_users[\"Percentile_rank\"] > .9]\n",
    "test_df.shape\n",
    "\n",
    "X_test = test_df.drop(['rating', 'title', 'title_year', 'zipcode', 'Percentile_rank', 'timestamp'], axis=1)\n",
    "y_test = test_df['rating']"
   ]
  },
  {
   "cell_type": "code",
   "execution_count": 57,
   "metadata": {},
   "outputs": [],
   "source": [
    "from sklearn.ensemble import RandomForestRegressor"
   ]
  },
  {
   "cell_type": "code",
   "execution_count": 63,
   "metadata": {},
   "outputs": [],
   "source": [
    "rand_forest = RandomForestRegressor(n_estimators=5)"
   ]
  },
  {
   "cell_type": "code",
   "execution_count": 64,
   "metadata": {},
   "outputs": [
    {
     "data": {
      "text/plain": [
       "RandomForestRegressor(bootstrap=True, criterion='mse', max_depth=None,\n",
       "                      max_features='auto', max_leaf_nodes=None,\n",
       "                      min_impurity_decrease=0.0, min_impurity_split=None,\n",
       "                      min_samples_leaf=1, min_samples_split=2,\n",
       "                      min_weight_fraction_leaf=0.0, n_estimators=5, n_jobs=None,\n",
       "                      oob_score=False, random_state=None, verbose=0,\n",
       "                      warm_start=False)"
      ]
     },
     "execution_count": 64,
     "metadata": {},
     "output_type": "execute_result"
    }
   ],
   "source": [
    "rand_forest.fit(X_train, y_train)"
   ]
  },
  {
   "cell_type": "code",
   "execution_count": 65,
   "metadata": {},
   "outputs": [
    {
     "data": {
      "text/plain": [
       "array([2.6, 4.8, 4.4, ..., 3.8, 3. , 3.4])"
      ]
     },
     "execution_count": 65,
     "metadata": {},
     "output_type": "execute_result"
    }
   ],
   "source": [
    "rand_forest.predict(X_test)"
   ]
  },
  {
   "cell_type": "code",
   "execution_count": null,
   "metadata": {},
   "outputs": [],
   "source": [
    "test_ratings = spark.read.json('./data/requests.json')"
   ]
  },
  {
   "cell_type": "code",
   "execution_count": 68,
   "metadata": {},
   "outputs": [
    {
     "data": {
      "text/html": [
       "<div>\n",
       "<style scoped>\n",
       "    .dataframe tbody tr th:only-of-type {\n",
       "        vertical-align: middle;\n",
       "    }\n",
       "\n",
       "    .dataframe tbody tr th {\n",
       "        vertical-align: top;\n",
       "    }\n",
       "\n",
       "    .dataframe thead th {\n",
       "        text-align: right;\n",
       "    }\n",
       "</style>\n",
       "<table border=\"1\" class=\"dataframe\">\n",
       "  <thead>\n",
       "    <tr style=\"text-align: right;\">\n",
       "      <th></th>\n",
       "      <th>movie_id</th>\n",
       "      <th>rating</th>\n",
       "      <th>timestamp</th>\n",
       "      <th>user_id</th>\n",
       "    </tr>\n",
       "  </thead>\n",
       "  <tbody>\n",
       "    <tr>\n",
       "      <th>0</th>\n",
       "      <td>2019</td>\n",
       "      <td>NaN</td>\n",
       "      <td>956678777.0</td>\n",
       "      <td>6040</td>\n",
       "    </tr>\n",
       "    <tr>\n",
       "      <th>1</th>\n",
       "      <td>759</td>\n",
       "      <td>NaN</td>\n",
       "      <td>956679248.0</td>\n",
       "      <td>6040</td>\n",
       "    </tr>\n",
       "    <tr>\n",
       "      <th>2</th>\n",
       "      <td>2858</td>\n",
       "      <td>NaN</td>\n",
       "      <td>956679275.0</td>\n",
       "      <td>6040</td>\n",
       "    </tr>\n",
       "    <tr>\n",
       "      <th>3</th>\n",
       "      <td>246</td>\n",
       "      <td>NaN</td>\n",
       "      <td>956679413.0</td>\n",
       "      <td>6040</td>\n",
       "    </tr>\n",
       "    <tr>\n",
       "      <th>4</th>\n",
       "      <td>1617</td>\n",
       "      <td>NaN</td>\n",
       "      <td>956679473.0</td>\n",
       "      <td>6040</td>\n",
       "    </tr>\n",
       "  </tbody>\n",
       "</table>\n",
       "</div>"
      ],
      "text/plain": [
       "   movie_id  rating    timestamp  user_id\n",
       "0      2019     NaN  956678777.0     6040\n",
       "1       759     NaN  956679248.0     6040\n",
       "2      2858     NaN  956679275.0     6040\n",
       "3       246     NaN  956679413.0     6040\n",
       "4      1617     NaN  956679473.0     6040"
      ]
     },
     "execution_count": 68,
     "metadata": {},
     "output_type": "execute_result"
    }
   ],
   "source": [
    "test_ratings = test_ratings.toPandas()\n",
    "test_ratings.head()"
   ]
  },
  {
   "cell_type": "code",
   "execution_count": 70,
   "metadata": {},
   "outputs": [],
   "source": [
    "test_movies = pd.merge(test_ratings, movies_meta, how='left', left_on='movie_id', right_on='id')\n",
    "test_movies_and_users = pd.merge(test_movies, users_meta, how='left', left_on='user_id', right_on='ID')\n",
    "test_movies_and_users.drop(['id','ID'], axis=1, inplace=True)\n",
    "test_movies_and_users = test_movies_and_users.fillna(0)\n",
    "test_movies_and_users['sex'] = test_movies_and_users['sex'].map({'M': 0, 'F': 1})\n",
    "test_movies_and_users['zipcode'] = test_movies_and_users['zipcode'][0:5]\n",
    "features = test_movies_and_users.drop(['rating', 'title', 'title_year', 'zipcode', 'timestamp'], axis=1)\n",
    "labels = test_movies_and_users['rating']"
   ]
  },
  {
   "cell_type": "code",
   "execution_count": 72,
   "metadata": {},
   "outputs": [],
   "source": [
    "cs_predictions = rand_forest.predict(features)"
   ]
  },
  {
   "cell_type": "code",
   "execution_count": 77,
   "metadata": {},
   "outputs": [],
   "source": [
    "test_movies_and_users['predictions'] = cs_predictions"
   ]
  },
  {
   "cell_type": "code",
   "execution_count": 78,
   "metadata": {},
   "outputs": [],
   "source": [
    "import pickle\n",
    "\n",
    "pickle.dump(test_movies_and_users, open('cs_model.pkl', 'wb'))"
   ]
  },
  {
   "cell_type": "code",
   "execution_count": null,
   "metadata": {},
   "outputs": [],
   "source": []
  }
 ],
 "metadata": {
  "kernelspec": {
   "display_name": "learn-env",
   "language": "python",
   "name": "learn-env"
  },
  "language_info": {
   "codemirror_mode": {
    "name": "ipython",
    "version": 3
   },
   "file_extension": ".py",
   "mimetype": "text/x-python",
   "name": "python",
   "nbconvert_exporter": "python",
   "pygments_lexer": "ipython3",
   "version": "3.6.6"
  }
 },
 "nbformat": 4,
 "nbformat_minor": 2
}
